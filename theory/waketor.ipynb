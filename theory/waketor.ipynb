{
 "cells": [
  {
   "cell_type": "code",
   "execution_count": 1,
   "metadata": {
    "collapsed": false
   },
   "outputs": [],
   "source": [
    "# Some plotting imports\n",
    "%matplotlib inline\n",
    "import matplotlib.pylab as pl\n",
    "import numpy as np\n",
    "from IPython.display import HTML, Latex\n",
    "# Update the matplotlib configuration parameters:\n",
    "pl.rcParams.update({'font.size': 18, 'font.family': 'serif'})"
   ]
  },
  {
   "cell_type": "markdown",
   "metadata": {},
   "source": [
    "# Motivation"
   ]
  },
  {
   "cell_type": "markdown",
   "metadata": {},
   "source": [
    "The usual algorithms used to run wind farm flow models in order to calculate annual energy production is utilizing a lot of nested `for` loops which make them innapropriate for scripting languages such as Matlab of Python. The following code snippet illustrate a typical algorithm to calculate the AEP in python."
   ]
  },
  {
   "cell_type": "markdown",
   "metadata": {},
   "source": [
    "```python\n",
    "AEP = 0.0\n",
    "for ws in wind_speed_cases:\n",
    "    for wd in wind_direction_cases:\n",
    "        for wt in wind_turbines.sort(wd):\n",
    "            wt.du[ws, wd] = []\n",
    "            for wt_up in wt.upstream_wind_turbines(wd):\n",
    "                wt.du[ws, wd].append(calculate_deficit(wt_up, wt, wd, ws))\n",
    "            wt.ws[ws, wd] = aggregate_wake(wt.du[ws, wd])\n",
    "            wt.power[ws, wd] = wt.power_curve(wt.ws[ws, wd])\n",
    "            wt.ct[ws, wd] = wt.ct_curve(wt.ws[ws, wd])            \n",
    "        AEP += Nt * wt.power[ws, wd] * frequency(ws, wd)\n",
    "```"
   ]
  },
  {
   "cell_type": "markdown",
   "metadata": {},
   "source": [
    "As it can be seen the function `calculate_deficit` is called $N_{WS} . N_{WD} . N_{WT} . (N_{WT}-1)/2 $ times. With $N_{WS}$ the number of wind speed case, $N_{WD}$ the number of wind direction case, $N_{WT}$ the number of wind turbines in the wind farm. If those numbers are large, and the time to calculate the wake wind speed deficit is significant then the total time adds up significantly. To estimate the AEP of a 100-turbine wind farm with this method can easily reach 30 million function evaluations."
   ]
  },
  {
   "cell_type": "markdown",
   "metadata": {},
   "source": [
    "### Example"
   ]
  },
  {
   "cell_type": "markdown",
   "metadata": {},
   "source": [
    "The following examples is based on the following inputs:\n",
    "\n",
    "Number of wind speed bins:"
   ]
  },
  {
   "cell_type": "code",
   "execution_count": 2,
   "metadata": {
    "collapsed": true
   },
   "outputs": [],
   "source": [
    "n_ws = 21"
   ]
  },
  {
   "cell_type": "markdown",
   "metadata": {},
   "source": [
    "Number of wind direction bins"
   ]
  },
  {
   "cell_type": "code",
   "execution_count": 3,
   "metadata": {
    "collapsed": true
   },
   "outputs": [],
   "source": [
    "n_wd = 360"
   ]
  },
  {
   "cell_type": "markdown",
   "metadata": {},
   "source": [
    "Number of wind turbines"
   ]
  },
  {
   "cell_type": "code",
   "execution_count": 4,
   "metadata": {
    "collapsed": true
   },
   "outputs": [],
   "source": [
    "n_wt = 100"
   ]
  },
  {
   "cell_type": "markdown",
   "metadata": {},
   "source": [
    "Which gives us the following number of single wake evaluations for a traditional AEP calculation:"
   ]
  },
  {
   "cell_type": "code",
   "execution_count": 5,
   "metadata": {
    "collapsed": false
   },
   "outputs": [
    {
     "data": {
      "text/html": [
       "Number of function evaluations for $N_{WS}=21$, $N_{WD}=360$ and $100$ turbines: 3.74E+07"
      ],
      "text/plain": [
       "<IPython.core.display.HTML object>"
      ]
     },
     "execution_count": 5,
     "metadata": {},
     "output_type": "execute_result"
    }
   ],
   "source": [
    "HTML(\"Number of function evaluations for $N_{WS}=%d$, $N_{WD}=%d$ and $%d$ turbines: %2.2E\"%(\n",
    "        n_ws, n_wd, n_wt, n_ws * n_wd * n_wt * (n_wt - 1)/2))"
   ]
  },
  {
   "cell_type": "markdown",
   "metadata": {},
   "source": [
    "This is particularly critical in the context of wind farm layout optimization, where the AEP of many different layouts need to be evaluated iteratively. Or in the case of an uncertainty quantification exercise, where 100,000s to millions time more wind direction and wind speed cases have to be executed.\n",
    "A way to approach this is to put the `for` loops into a compiled language as fast as possible such as Fortran of C. This is done at the expense of the coding flexibility that are offered by modern scripting languages such as Python and Matlab. What we propose in this paper is to explore the potential of using vectorization to reduce the number of function evalutation and dramatically speeding up the calculation of an AEP with uncertainty propagation."
   ]
  },
  {
   "cell_type": "markdown",
   "metadata": {},
   "source": [
    "# Method"
   ]
  },
  {
   "cell_type": "markdown",
   "metadata": {},
   "source": [
    "The methodology is to first make sure that the wake deficit function is vectorizable. So that it can produce a vector output according to a set of vector inputs. "
   ]
  },
  {
   "cell_type": "markdown",
   "metadata": {},
   "source": [
    "### Generating a random layout of 100 turbines\n",
    "Each turbine has a random rotor diameter and random hub height."
   ]
  },
  {
   "cell_type": "code",
   "execution_count": 6,
   "metadata": {
    "collapsed": false
   },
   "outputs": [
    {
     "data": {
      "image/png": "[encoded data removed]",
      "text/plain": [
       "<matplotlib.figure.Figure at 0x7f3fc4f24470>"
      ]
     },
     "metadata": {},
     "output_type": "display_data"
    }
   ],
   "source": [
    "from waketor.lib import generate_random_coord, plot_coord\n",
    "# Random rotor diameter\n",
    "D = (np.random.rand(n_wt) + 1.0) * 40.0\n",
    "# Random hub height\n",
    "H = (np.random.rand(n_wt) + 1.0) * D/2.0\n",
    "# Random coordinate \n",
    "coord = generate_random_coord(n_wt, 60*D.max(), 3*D.max())\n",
    "plot_coord(coord)\n",
    "pl.axis('equal');"
   ]
  },
  {
   "cell_type": "markdown",
   "metadata": {
    "collapsed": false
   },
   "source": [
    "Here we only consider an AEP calculation."
   ]
  },
  {
   "cell_type": "markdown",
   "metadata": {},
   "source": [
    "### Creating the distance matrix between each wind turbines\n",
    "In order to call the single wake model, we need to have the relative distance between each wind turbines of the layout. We will use the $(x, y)$-coordinate matrix (of shape $[N_{WT}, 2]$) created previously to generate this new turbine distance matrix (of shape $[N_{WT}^2, 3]$, where the third dimension is due to the difference in hub height). But as we will have to call the single wake function for each wind speed and wind direction, we also have to multiply by those cases as well. So the final matrix should have shape of $[N_{WT}^2 N_{WD} N_{WS}, 3]$"
   ]
  },
  {
   "cell_type": "code",
   "execution_count": 12,
   "metadata": {
    "collapsed": false
   },
   "outputs": [
    {
     "data": {
      "text/html": [
       "this corresponds to 75600000 cases"
      ],
      "text/plain": [
       "<IPython.core.display.HTML object>"
      ]
     },
     "execution_count": 12,
     "metadata": {},
     "output_type": "execute_result"
    }
   ],
   "source": [
    "HTML('this corresponds to {} cases'.format(n_ws*n_wd*n_wt**2))"
   ]
  },
  {
   "cell_type": "markdown",
   "metadata": {},
   "source": [
    "First we generate the indices of the wind turbines to operate over using `numpy.meshgrid` function"
   ]
  },
  {
   "cell_type": "code",
   "execution_count": 13,
   "metadata": {
    "collapsed": false
   },
   "outputs": [],
   "source": [
    "WS, WD, Ii, Ij = np.meshgrid(\n",
    "                    np.linspace(4., 25., n_ws), \n",
    "                    np.linspace(0., 2. * np.pi, n_wd)[:-1], \n",
    "                    range(n_wt), \n",
    "                    range(n_wt))\n",
    "# We want to operate over vectors\n",
    "ws = WS.flatten()\n",
    "wd = WD.flatten()\n",
    "ii = Ii.flatten()\n",
    "ij = Ij.flatten()"
   ]
  },
  {
   "cell_type": "markdown",
   "metadata": {},
   "source": [
    "where iI and iJ are the two matrices of wind turbine index corresponding respectively to the upstream turbine and the downstream turbine."
   ]
  },
  {
   "cell_type": "markdown",
   "metadata": {},
   "source": [
    "Then we create the distance matrix `rel_pos`."
   ]
  },
  {
   "cell_type": "code",
   "execution_count": null,
   "metadata": {
    "collapsed": false
   },
   "outputs": [],
   "source": [
    "d_x = coord[ij, 0] - coord[ii, 0]\n",
    "d_y = coord[ij, 1] - coord[ii, 1]\n",
    "d_z = H[ij] - H[ii]\n",
    "rel_pos = np.vstack([d_x, d_y, d_z]).T # Transposed to have a shape=[n_wt, 3]\n",
    "assert rel_pos.shape == (n_wt**2, 3)"
   ]
  },
  {
   "cell_type": "markdown",
   "metadata": {
    "collapsed": true
   },
   "source": [
    "### Rotating the coordinate system according to the wind direction\n",
    "In traditional wind farm flow model algorithm, the coordinate system is transformed in order to align the position of the downstream turbines related to the wake generating turbines.\n",
    "\n",
    "$(1) \\hspace{50pt} \n",
    "x = d_x \\sin(\\theta) + d_y \\cos(\\theta)\n",
    "$\n",
    "\n",
    "$(2) \\hspace{50pt}\n",
    "r = \\sqrt{(d_x \\cos(\\theta) - d_y \\sin(\\theta))^2 + dz^2}\n",
    "$\n",
    "\n",
    "with $r$ the radius, $d_x$, $d_y$ and $d_z$ the distance between two turbines in $x$, $y$ and $z$-direction and $\\theta$ the wind direction."
   ]
  },
  {
   "cell_type": "code",
   "execution_count": null,
   "metadata": {
    "collapsed": false
   },
   "outputs": [],
   "source": [
    "# First we have to create new vector containing all the wind turbine pairs with respect to all directions\n",
    "wd = WD.flatten()\n",
    "iWD, iII = np.meshgrid(range(wd.size), ii)\n",
    "iwd = iWD.flatten()\n",
    "iii = iII.flatten()\n",
    "\n",
    "x = np.sin(wd) * d_x + np.cos(wd) * dy\n",
    "r = np.sqrt((np.cos(wd) * d_x - np.sin(wd) * d_y) ** 2.0 + d_z ** 2.0)"
   ]
  },
  {
   "cell_type": "code",
   "execution_count": null,
   "metadata": {
    "collapsed": true
   },
   "outputs": [],
   "source": []
  },
  {
   "cell_type": "code",
   "execution_count": null,
   "metadata": {
    "collapsed": true
   },
   "outputs": [],
   "source": []
  }
 ],
 "metadata": {
  "kernelspec": {
   "display_name": "Python 3",
   "language": "python",
   "name": "python3"
  },
  "language_info": {
   "codemirror_mode": {
    "name": "ipython",
    "version": 3
   },
   "file_extension": ".py",
   "mimetype": "text/x-python",
   "name": "python",
   "nbconvert_exporter": "python",
   "pygments_lexer": "ipython3",
   "version": "3.5.1"
  }
 },
 "nbformat": 4,
 "nbformat_minor": 0
}
