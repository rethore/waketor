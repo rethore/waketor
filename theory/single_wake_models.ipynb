{
 "cells": [
  {
   "cell_type": "code",
   "execution_count": null,
   "metadata": {
    "collapsed": true
   },
   "outputs": [],
   "source": []
  },
  {
   "cell_type": "code",
   "execution_count": 1,
   "metadata": {
    "collapsed": true
   },
   "outputs": [],
   "source": [
    "def gcl(x, r, D, Ia, Ct):\n",
    "    # GCLarsen wake deficit model\n",
    "    # This function checks if r is greater than the wake radius!\n",
    "    # x: Distance downstream\n",
    "    # r: radial position\n",
    "    # D is wind turbine rotor diameter\n",
    "    # Ia: inflow turbulence\n",
    "    # Ct: turbine ct\n",
    "\n",
    "\n",
    "    #w2 = 0.0\n",
    "    #DU2 = 0.0  # assumption\n",
    "\n",
    "    Area = np.pi * D**2.0 / 4.0\n",
    "    m = 1.0 / (np.sqrt(1.0 - Ct))\n",
    "    k = np.sqrt((m + 1.0) / 2.0)\n",
    "\n",
    "    a1 = 0.435449861  # empirically determined\n",
    "    a2 = 0.797853685\n",
    "    a3 = -0.124807893\n",
    "    a4 = 0.136821858\n",
    "    b1 = 15.6298\n",
    "    b2 = 1.0\n",
    "    R96 = a1 * (np.exp(a2 * Ct * Ct + a3 * Ct + a4)) * (b1 * Ia + b2) * D\n",
    "\n",
    "    x0 = (9.6 * D) / ((2.0 * R96 / (k * D)) ** 3.0 - 1.0)\n",
    "    term1 = (k * D / 2.0) ** (5.0 / 2.0)\n",
    "    term2 = (105.0 / (2.0 * np.pi)) ** (-0.5)\n",
    "    term3 = (Ct * Area * x0) ** (-5.0 / 6.0)\n",
    "    c1 = term1 * term2 * term3\n",
    "    # c45=3*(c1)**2\n",
    "\n",
    "    term10 = 0.1111# * WindSpeed  # U/9.0\n",
    "    term20 = (Ct * Area * (x + x0) ** (-2.0)) ** (1.0 / 3.0)\n",
    "    term310 = (r ** (3.0 / 2.0))\n",
    "    term320 = (3.0 * c1 * c1 * Ct * Area * (x + x0)) ** (-0.5)\n",
    "    term30 = term310 * term320\n",
    "    term40 = ((35.0 / (2.0 * np.pi)) ** (3.0 / 10.0)) * (3.0 * c1 * c1) ** (-1.0 / 5.0)\n",
    "    DU1 = -term10 * term20 * (term30 - term40) ** 2.0\n",
    "\n",
    "    DU = DU1 # + w2 * DU2\n",
    "    Rw=((105*c1**2.0/(2*np.pi))**(1./5.))*(Ct*Area*(x+x0))**(1./3.)\n",
    "    #if r > Rw:\n",
    "    #    DU = 0.0\n",
    "    # end\n",
    "    return DU, Rw\n",
    "\n",
    "def single_wake_gcl(rel_pos, c_t, D, ti):\n",
    "    x = rel_pos[:,0]\n",
    "    r = np.sqrt(rel_pos[:,1]**2.0 + rel_pos[:,2]**2.0)\n",
    "    R = D / 2.0\n",
    "    #### GCL Specific\n",
    "    DU = np.zeros_like(x)\n",
    "    ind = x > 0.0\n",
    "    DU_, Rw = gcl(x[ind], r[ind], D[ind], ti[ind], c_t[ind])\n",
    "    DU_[abs(r[ind]) > Rw] = 0.0\n",
    "    DU_[DU_<-1.0] = 0.0     # Avoid some weirdiness\n",
    "    DU[ind] = DU_\n",
    "    return DU"
   ]
  },
  {
   "cell_type": "code",
   "execution_count": null,
   "metadata": {
    "collapsed": true
   },
   "outputs": [],
   "source": [
    "def single_wake_noj(rel_pos, c_t, D, k):\n",
    "    x = rel_pos[:,0]\n",
    "    r = np.sqrt(rel_pos[:,1]**2.0 + rel_pos[:,2]**2.0)\n",
    "    # Radius\n",
    "    R = D / 2.0\n",
    "    # NOJ Specific\n",
    "    Rw = R + k * x  # upstream turbine wake radius\n",
    "    DU = - (1.0 - np.sqrt(1.0 - c_t)) / (1.0 + (k * x) / R) ** 2.0\n",
    "    # Upstream cases\n",
    "    DU[x < 0.0] = 0.0\n",
    "    DU[abs(r)>Rw] = 0.0\n",
    "    return DU"
   ]
  }
 ],
 "metadata": {
  "kernelspec": {
   "display_name": "Python 3",
   "language": "python",
   "name": "python3"
  },
  "language_info": {
   "codemirror_mode": {
    "name": "ipython",
    "version": 3
   },
   "file_extension": ".py",
   "mimetype": "text/x-python",
   "name": "python",
   "nbconvert_exporter": "python",
   "pygments_lexer": "ipython3",
   "version": "3.5.0"
  }
 },
 "nbformat": 4,
 "nbformat_minor": 0
}
